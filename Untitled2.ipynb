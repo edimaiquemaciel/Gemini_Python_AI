{
  "nbformat": 4,
  "nbformat_minor": 0,
  "metadata": {
    "colab": {
      "provenance": [],
      "authorship_tag": "ABX9TyOL4PTEjzIrSSK4cvMIh9/e"
    },
    "kernelspec": {
      "name": "python3",
      "display_name": "Python 3"
    },
    "language_info": {
      "name": "python"
    }
  },
  "cells": [
    {
      "cell_type": "markdown",
      "source": [
        "Instalando o SDK  do google"
      ],
      "metadata": {
        "id": "KID3VTc-qEd3"
      }
    },
    {
      "cell_type": "code",
      "execution_count": 1,
      "metadata": {
        "id": "RYnOkrWMoRz6"
      },
      "outputs": [],
      "source": [
        "!pip install -q -U google-generativeai\n"
      ]
    },
    {
      "cell_type": "code",
      "source": [
        "import google.generativeai as genai\n",
        "from google.colab import userdata\n",
        "api_key = userdata.get(\"SECRET_KEY\")\n",
        "\n",
        "genai.configure(api_key=api_key)"
      ],
      "metadata": {
        "id": "fEepfwTupnFg"
      },
      "execution_count": 29,
      "outputs": []
    },
    {
      "cell_type": "markdown",
      "source": [
        "Listar os modelos disponíveis"
      ],
      "metadata": {
        "id": "UUAERJkJq2R3"
      }
    },
    {
      "cell_type": "code",
      "source": [
        "for m in genai.list_models():\n",
        "  if 'generateContent' in m.supported_generation_methods:\n",
        "    print(m.name)"
      ],
      "metadata": {
        "colab": {
          "base_uri": "https://localhost:8080/",
          "height": 139
        },
        "id": "J6YBol7ArJYd",
        "outputId": "9b09b468-7a52-44cc-8a25-814e375a2f97"
      },
      "execution_count": 4,
      "outputs": [
        {
          "output_type": "stream",
          "name": "stdout",
          "text": [
            "models/gemini-1.0-pro\n",
            "models/gemini-1.0-pro-001\n",
            "models/gemini-1.0-pro-latest\n",
            "models/gemini-1.0-pro-vision-latest\n",
            "models/gemini-1.5-pro-latest\n",
            "models/gemini-pro\n",
            "models/gemini-pro-vision\n"
          ]
        }
      ]
    },
    {
      "cell_type": "markdown",
      "source": [
        "Ajustando parâmetros de resposta do modelo"
      ],
      "metadata": {
        "id": "FMm-zHajv72V"
      }
    },
    {
      "cell_type": "code",
      "source": [
        "generation_config = {\n",
        "    \"temperature\": 1,\n",
        "}"
      ],
      "metadata": {
        "id": "5XyGLsFft62t"
      },
      "execution_count": 27,
      "outputs": []
    },
    {
      "cell_type": "markdown",
      "source": [
        "Setando as configurações de segurança"
      ],
      "metadata": {
        "id": "tQtZTlnLvur1"
      }
    },
    {
      "cell_type": "code",
      "source": [
        "safety_settings = {\n",
        "    \"HARASSMENT\": \"BLOCK_NONE\",\n",
        "    \"HATE\": \"BLOCK_NONE\",\n",
        "    \"SEXUAL\": \"BLOCK_NONE\",\n",
        "    \"DANGEROUS\": \"BLOCK_NONE\",\n",
        "}"
      ],
      "metadata": {
        "id": "MvKYjynjuqke"
      },
      "execution_count": 6,
      "outputs": []
    },
    {
      "cell_type": "markdown",
      "source": [
        "Inicializando o modelo"
      ],
      "metadata": {
        "id": "SsBAYOzuwxRl"
      }
    },
    {
      "cell_type": "code",
      "source": [
        "model = genai.GenerativeModel(model_name=\"gemini-1.5-pro-latest\",\n",
        "                             generation_config= generation_config,\n",
        "                             safety_settings= safety_settings)"
      ],
      "metadata": {
        "id": "oXMZEisiwz3A"
      },
      "execution_count": 24,
      "outputs": []
    },
    {
      "cell_type": "code",
      "source": [
        "response = model.generate_content(\"Vamos aprtender conteúdos sobre AI. Me dê sugestões.\")\n",
        "print(response.text)"
      ],
      "metadata": {
        "colab": {
          "base_uri": "https://localhost:8080/",
          "height": 677
        },
        "id": "q6awqs-fyIj-",
        "outputId": "366a9a92-c313-40b7-bb81-f8af6d469b6f"
      },
      "execution_count": 15,
      "outputs": [
        {
          "output_type": "stream",
          "name": "stdout",
          "text": [
            "**Cursos Online:**\n",
            "\n",
            "* **Coursera:**\n",
            "    * Aprendizado de Máquina\n",
            "    * Inteligência Artificial\n",
            "    * Visão Computacional\n",
            "* **edX:**\n",
            "    * Inteligência Artificial (MIT)\n",
            "    * Aprendizado de Máquina (Microsoft)\n",
            "* **Udemy:**\n",
            "    * Curso Completo de Inteligência Artificial\n",
            "    * Aprendizado de Máquina com Python\n",
            "\n",
            "**Livros:**\n",
            "\n",
            "* **Inteligência Artificial: Uma Abordagem Moderna** por Stuart Russell e Peter Norvig\n",
            "* **Aprendizado de Máquina** por Ethem Alpaydin\n",
            "* **Visão Computacional** por Richard Szeliski\n",
            "* **Aprendizado Profundo** por Ian Goodfellow, Yoshua Bengio e Aaron Courville\n",
            "\n",
            "**Artigos e Documentação:**\n",
            "\n",
            "* **Google AI Blog:** https://ai.googleblog.com/\n",
            "* **OpenAI Blog:** https://openai.com/blog/\n",
            "* **Documentação do TensorFlow:** https://www.tensorflow.org/\n",
            "* **Documentação do PyTorch:** https://pytorch.org/\n",
            "\n",
            "**Comunidades e Fóruns:**\n",
            "\n",
            "* **Stack Overflow:** https://stackoverflow.com/questions/tagged/artificial-intelligence\n",
            "* **Reddit: r/artificial** https://www.reddit.com/r/artificial/\n",
            "* **GitHub: Tópicos de Inteligência Artificial** https://github.com/topics/artificial-intelligence\n",
            "\n",
            "**Recursos Adicionais:**\n",
            "\n",
            "* **Kaggle:** Plataforma de competição de aprendizado de máquina e ciência de dados\n",
            "* **TensorBoard:** Ferramenta de visualização para modelos de aprendizado de máquina\n",
            "* **Jupyter Notebook:** Ambiente interativo para desenvolvimento e compartilhamento de código\n"
          ]
        }
      ]
    },
    {
      "cell_type": "code",
      "source": [
        "chat = model.start_chat(history=[])"
      ],
      "metadata": {
        "id": "J9ZsmqO4zyzF"
      },
      "execution_count": 16,
      "outputs": []
    },
    {
      "cell_type": "code",
      "source": [
        "prompt = input(\"Esperando prompt: \")\n",
        "\n",
        "while prompt != \"fim\":\n",
        "  response = chat.send_message(prompt)\n",
        "  print(\"Resposta: \", response.text, \"\\n\")\n",
        "  prompt = input(\"Esperando prompt: \")"
      ],
      "metadata": {
        "colab": {
          "base_uri": "https://localhost:8080/"
        },
        "id": "oufXVsAD04nW",
        "outputId": "cdc98f5f-c765-4252-fdbd-99975a47079b"
      },
      "execution_count": 33,
      "outputs": [
        {
          "name": "stdout",
          "output_type": "stream",
          "text": [
            "Esperando prompt: fim\n"
          ]
        }
      ]
    },
    {
      "cell_type": "code",
      "source": [
        "# Melhorando a visualização\n",
        "# Código disponível em https://ai.google.dev/tutorials/python/quickstart_import_packages\n",
        "\n",
        "import textwrap\n",
        "from IPython.display import Markdown, display\n",
        "\n",
        "def to_markdown(text):\n",
        "  \"\"\"Converte texto em markdown, indentando e escapando caracteres especiais.\"\"\"\n",
        "  return textwrap.indent(text, '    ').replace('`', r'\\`')\n",
        "\n",
        "# Imprimindo o histórico\n",
        "for message in chat.history:\n",
        "  display(to_markdown(f\"**{message.role}:**\\n{message.parts[0].text}\"))\n",
        "  print(\"------------------------------------------------------\")"
      ],
      "metadata": {
        "colab": {
          "base_uri": "https://localhost:8080/",
          "height": 231
        },
        "id": "RunDcyic355K",
        "outputId": "eae7d250-6f2b-45fe-f4ee-989bff5a5a64"
      },
      "execution_count": 22,
      "outputs": [
        {
          "output_type": "display_data",
          "data": {
            "text/plain": [
              "'    **user:**\\n    qual a capital do japao?'"
            ],
            "application/vnd.google.colaboratory.intrinsic+json": {
              "type": "string"
            }
          },
          "metadata": {}
        },
        {
          "output_type": "stream",
          "name": "stdout",
          "text": [
            "------------------------------------------------------\n"
          ]
        },
        {
          "output_type": "display_data",
          "data": {
            "text/plain": [
              "'    **model:**\\n    Tóquio'"
            ],
            "application/vnd.google.colaboratory.intrinsic+json": {
              "type": "string"
            }
          },
          "metadata": {}
        },
        {
          "output_type": "stream",
          "name": "stdout",
          "text": [
            "------------------------------------------------------\n"
          ]
        },
        {
          "output_type": "display_data",
          "data": {
            "text/plain": [
              "'    **user:**\\n    qual a comida tipica deste pais?'"
            ],
            "application/vnd.google.colaboratory.intrinsic+json": {
              "type": "string"
            }
          },
          "metadata": {}
        },
        {
          "output_type": "stream",
          "name": "stdout",
          "text": [
            "------------------------------------------------------\n"
          ]
        },
        {
          "output_type": "display_data",
          "data": {
            "text/plain": [
              "'    **model:**\\n    Sushi'"
            ],
            "application/vnd.google.colaboratory.intrinsic+json": {
              "type": "string"
            }
          },
          "metadata": {}
        },
        {
          "output_type": "stream",
          "name": "stdout",
          "text": [
            "------------------------------------------------------\n"
          ]
        },
        {
          "output_type": "display_data",
          "data": {
            "text/plain": [
              "'    **user:**\\n    quanto é 5+3?'"
            ],
            "application/vnd.google.colaboratory.intrinsic+json": {
              "type": "string"
            }
          },
          "metadata": {}
        },
        {
          "output_type": "stream",
          "name": "stdout",
          "text": [
            "------------------------------------------------------\n"
          ]
        },
        {
          "output_type": "display_data",
          "data": {
            "text/plain": [
              "'    **model:**\\n    8'"
            ],
            "application/vnd.google.colaboratory.intrinsic+json": {
              "type": "string"
            }
          },
          "metadata": {}
        },
        {
          "output_type": "stream",
          "name": "stdout",
          "text": [
            "------------------------------------------------------\n"
          ]
        }
      ]
    }
  ]
}